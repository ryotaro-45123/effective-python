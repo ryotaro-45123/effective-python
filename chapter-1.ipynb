{
 "cells": [
  {
   "cell_type": "markdown",
   "id": "parental-republic",
   "metadata": {},
   "source": [
    "# 1章　Pythoinc思考"
   ]
  },
  {
   "cell_type": "markdown",
   "id": "intellectual-lloyd",
   "metadata": {},
   "source": [
    "## 使用するPythonのバージョンを知っておく"
   ]
  },
  {
   "cell_type": "code",
   "execution_count": 1,
   "id": "spare-checklist",
   "metadata": {},
   "outputs": [
    {
     "name": "stdout",
     "output_type": "stream",
     "text": [
      "sys.version_info(major=3, minor=8, micro=7, releaselevel='final', serial=0)\n",
      "3.8.7 (default, Feb  9 2021, 08:08:20) \n",
      "[GCC 8.3.0]\n"
     ]
    }
   ],
   "source": [
    "import sys\n",
    "print(sys.version_info)\n",
    "print(sys.version)"
   ]
  },
  {
   "cell_type": "markdown",
   "id": "taken-savannah",
   "metadata": {},
   "source": [
    "## PEP8スタイルガイドに従う"
   ]
  },
  {
   "cell_type": "markdown",
   "id": "altered-relevance",
   "metadata": {},
   "source": [
    "### 空白\n",
    "- インデントには、タブではなく空白を使う。\n",
    "- 構文上意味を持つレベルのインデントには、4個の空白を使う。\n",
    "- 各行は、長さが79文字かそれ以下とする。\n",
    "- 長い式を続けるために次の式を使うときは、通常のインデントから4個の追加空白を使ってインデントする。\n",
    "- ファイルでは、関数とタスクは、空白2行で分ける。\n",
    "- クラスでは、メソッドは、空白行で分ける。\n",
    "- 辞書では、キーとコロンの間には空白をおかず、同じ行に値を各場合には値の前に空白を1つ置く。\n",
    "- 変数代入の前後には、空白を1つ、必ず1つだけを置く。\n",
    "- 型ヒント (型アノテーション) では、変数名の直後にコロンを置き、型情報の前に空白を1つ置く。"
   ]
  },
  {
   "cell_type": "markdown",
   "id": "subsequent-tactics",
   "metadata": {},
   "source": [
    "### 名前つけ\n",
    "- 関数、変数、属性は、lowercase_uderscoreのように小文字でアンダースコアを挟む。\n",
    "- プロテクテッド (保護) 属性は、_leading_underscoreのようにアンダースコアを先頭に付ける。\n",
    "- プライベート属性は、__double_underscoreのようにアンダースコアを2つ先頭に付ける。\n",
    "- クラスと例外は、CapitalizedWordのように先頭を大文字にする。\n",
    "- モジュールでの定義は、ALL_CAPSのようにすべて大文字でアンダースコアを挟む。\n",
    "- クラスのインスタンスメソッドは、(オブジェクトを参照する) 第1パラメータの名前にselfを使う。\n",
    "- クラスメソッドは、(クラスを参照する) 第1パラメータの名前にclsを使う。"
   ]
  },
  {
   "cell_type": "markdown",
   "id": "mounted-gilbert",
   "metadata": {},
   "source": [
    "### 式と文\n",
    "- 式の否定 (If not a is b) ではなく、内側の項の否定 (If a is not b) を使う。\n",
    "- コンテナやシーケンスの長さ (If len(somelist) == 0) を使って、空値 ([]や''など) かどうかをチェックしない。If not somelistを使って、空値が暗黙にFalseと評価されることを使う。\n",
    "- 上と同じことを、非空値 ([1]や'hi'など) にも使う。非空値について、文if somelistは、暗黙にTrueと評価される。\n",
    "- if文、forループ、whileのループ、except複合文を1行で書かない。明確になるよう複数行にする。\n",
    "- 式が1行に治らない場合は、括弧で括って、複数行にして、読みやすいようにインデントする。\n",
    "- \\で行分けするよりは、括弧を使って複数の式を囲むほうが良い。"
   ]
  },
  {
   "cell_type": "markdown",
   "id": "qualified-spiritual",
   "metadata": {},
   "source": [
    "## インポート\n",
    "- import文は (from x import yも含めて) 常にファイルの先頭に置く。\n",
    "- インポートするときは、常にモジュールの絶対名を使い、現モジュールのパスからの相対名を使わない。例えば、モジュールfooをパッケージbarからインポートするときには、import fooではなく、from bar import fooを使う。\n",
    "- 相対インポートを使わなければならないときには、明示的な構文from . import fooを使う。\n",
    "- インポートは、①標準ライブラリモジュール、②サードパーティモジュール、③自分の作成したモジュール、の順に行う。それぞれの部分では、アルファベット順にインポートする。"
   ]
  },
  {
   "cell_type": "markdown",
   "id": "assigned-fourth",
   "metadata": {},
   "source": [
    "## bytesとstrの違いを知っておく。"
   ]
  },
  {
   "cell_type": "code",
   "execution_count": 3,
   "id": "accompanied-shell",
   "metadata": {},
   "outputs": [
    {
     "name": "stdout",
     "output_type": "stream",
     "text": [
      "[104, 101, 108, 108, 111]\n",
      "b'hello'\n"
     ]
    }
   ],
   "source": [
    "a = b'h\\x65llo'\n",
    "print(list(a))\n",
    "print(a)"
   ]
  },
  {
   "cell_type": "code",
   "execution_count": 4,
   "id": "devoted-disclaimer",
   "metadata": {},
   "outputs": [
    {
     "name": "stdout",
     "output_type": "stream",
     "text": [
      "['a', '̀', ' ', 'p', 'r', 'o', 'p', 'o', 's']\n",
      "à propos\n"
     ]
    }
   ],
   "source": [
    "a = 'a\\u0300 propos'\n",
    "print(list(a))\n",
    "print(a)"
   ]
  },
  {
   "cell_type": "code",
   "execution_count": 5,
   "id": "split-calvin",
   "metadata": {},
   "outputs": [
    {
     "name": "stdout",
     "output_type": "stream",
     "text": [
      "'foo'\n",
      "'bar'\n"
     ]
    }
   ],
   "source": [
    "def to_str(bytes_or_str):\n",
    "    if isinstance(bytes_or_str, bytes):\n",
    "        value = bytes_or_str.decode('utf-8')\n",
    "    else:\n",
    "        value = bytes_or_str\n",
    "    return value\n",
    "print(repr(to_str(b'foo')))\n",
    "print(repr(to_str('bar')))"
   ]
  },
  {
   "cell_type": "code",
   "execution_count": 8,
   "id": "published-argentina",
   "metadata": {},
   "outputs": [
    {
     "name": "stdout",
     "output_type": "stream",
     "text": [
      "'foo'\n",
      "'bar'\n"
     ]
    }
   ],
   "source": [
    "def to_bytes(bytes_or_str):\n",
    "    if isinstance(bytes_or_str, str):\n",
    "        value = bytes_or_str.encode('utf-8')\n",
    "    else:\n",
    "        value = bytes_or_str\n",
    "    return value\n",
    "print(repr(to_str(b'foo')))\n",
    "print(repr(to_str('bar')))"
   ]
  },
  {
   "cell_type": "code",
   "execution_count": 9,
   "id": "burning-ethnic",
   "metadata": {},
   "outputs": [
    {
     "name": "stdout",
     "output_type": "stream",
     "text": [
      "b'onetwo'\n",
      "onetwo\n"
     ]
    }
   ],
   "source": [
    "print(b'one' + b'two')\n",
    "print('one' + 'two')"
   ]
  },
  {
   "cell_type": "code",
   "execution_count": 10,
   "id": "natural-doubt",
   "metadata": {},
   "outputs": [
    {
     "ename": "TypeError",
     "evalue": "can't concat str to bytes",
     "output_type": "error",
     "traceback": [
      "\u001b[0;31m\u001b[0m",
      "\u001b[0;31mTypeError\u001b[0mTraceback (most recent call last)",
      "\u001b[0;32m<ipython-input-10-f531e85f0fca>\u001b[0m in \u001b[0;36m<module>\u001b[0;34m\u001b[0m\n\u001b[0;32m----> 1\u001b[0;31m \u001b[0;34mb'one'\u001b[0m \u001b[0;34m+\u001b[0m \u001b[0;34m'two'\u001b[0m\u001b[0;34m\u001b[0m\u001b[0;34m\u001b[0m\u001b[0m\n\u001b[0m",
      "\u001b[0;31mTypeError\u001b[0m: can't concat str to bytes"
     ]
    }
   ],
   "source": [
    "b'one' + 'two'"
   ]
  },
  {
   "cell_type": "code",
   "execution_count": 11,
   "id": "announced-latitude",
   "metadata": {},
   "outputs": [
    {
     "ename": "TypeError",
     "evalue": "can only concatenate str (not \"bytes\") to str",
     "output_type": "error",
     "traceback": [
      "\u001b[0;31m\u001b[0m",
      "\u001b[0;31mTypeError\u001b[0mTraceback (most recent call last)",
      "\u001b[0;32m<ipython-input-11-4bf1340b6409>\u001b[0m in \u001b[0;36m<module>\u001b[0;34m\u001b[0m\n\u001b[0;32m----> 1\u001b[0;31m \u001b[0;34m'one'\u001b[0m \u001b[0;34m+\u001b[0m \u001b[0;34mb'two'\u001b[0m\u001b[0;34m\u001b[0m\u001b[0;34m\u001b[0m\u001b[0m\n\u001b[0m",
      "\u001b[0;31mTypeError\u001b[0m: can only concatenate str (not \"bytes\") to str"
     ]
    }
   ],
   "source": [
    "'one' + b'two'"
   ]
  },
  {
   "cell_type": "code",
   "execution_count": 14,
   "id": "paperback-burden",
   "metadata": {},
   "outputs": [],
   "source": [
    "assert b'red' > b'blue'\n",
    "assert 'red' > 'blue'"
   ]
  },
  {
   "cell_type": "code",
   "execution_count": 15,
   "id": "sublime-portugal",
   "metadata": {},
   "outputs": [
    {
     "ename": "TypeError",
     "evalue": "'>' not supported between instances of 'str' and 'bytes'",
     "output_type": "error",
     "traceback": [
      "\u001b[0;31m\u001b[0m",
      "\u001b[0;31mTypeError\u001b[0mTraceback (most recent call last)",
      "\u001b[0;32m<ipython-input-15-51b54d0b93a4>\u001b[0m in \u001b[0;36m<module>\u001b[0;34m\u001b[0m\n\u001b[0;32m----> 1\u001b[0;31m \u001b[0;32massert\u001b[0m \u001b[0;34m'red'\u001b[0m \u001b[0;34m>\u001b[0m \u001b[0;34mb'blue'\u001b[0m\u001b[0;34m\u001b[0m\u001b[0;34m\u001b[0m\u001b[0m\n\u001b[0m",
      "\u001b[0;31mTypeError\u001b[0m: '>' not supported between instances of 'str' and 'bytes'"
     ]
    }
   ],
   "source": [
    "assert 'red' > b'blue'"
   ]
  },
  {
   "cell_type": "code",
   "execution_count": 16,
   "id": "moderate-annual",
   "metadata": {},
   "outputs": [
    {
     "ename": "TypeError",
     "evalue": "'>' not supported between instances of 'bytes' and 'str'",
     "output_type": "error",
     "traceback": [
      "\u001b[0;31m\u001b[0m",
      "\u001b[0;31mTypeError\u001b[0mTraceback (most recent call last)",
      "\u001b[0;32m<ipython-input-16-63df38e098cf>\u001b[0m in \u001b[0;36m<module>\u001b[0;34m\u001b[0m\n\u001b[0;32m----> 1\u001b[0;31m \u001b[0;32massert\u001b[0m \u001b[0;34mb'blue'\u001b[0m \u001b[0;34m>\u001b[0m \u001b[0;34m'red'\u001b[0m\u001b[0;34m\u001b[0m\u001b[0;34m\u001b[0m\u001b[0m\n\u001b[0m",
      "\u001b[0;31mTypeError\u001b[0m: '>' not supported between instances of 'bytes' and 'str'"
     ]
    }
   ],
   "source": [
    "assert b'blue' > 'red'"
   ]
  },
  {
   "cell_type": "code",
   "execution_count": 17,
   "id": "latter-place",
   "metadata": {},
   "outputs": [
    {
     "name": "stdout",
     "output_type": "stream",
     "text": [
      "False\n"
     ]
    }
   ],
   "source": [
    "print(b'foo' == 'foo')"
   ]
  },
  {
   "cell_type": "code",
   "execution_count": 18,
   "id": "animated-frank",
   "metadata": {},
   "outputs": [
    {
     "name": "stdout",
     "output_type": "stream",
     "text": [
      "b'red blue'\n",
      "red blue\n"
     ]
    }
   ],
   "source": [
    "print(b'red %s' % b'blue')\n",
    "print('red %s' % 'blue')"
   ]
  },
  {
   "cell_type": "code",
   "execution_count": 19,
   "id": "elect-bumper",
   "metadata": {},
   "outputs": [
    {
     "ename": "TypeError",
     "evalue": "%b requires a bytes-like object, or an object that implements __bytes__, not 'str'",
     "output_type": "error",
     "traceback": [
      "\u001b[0;31m\u001b[0m",
      "\u001b[0;31mTypeError\u001b[0mTraceback (most recent call last)",
      "\u001b[0;32m<ipython-input-19-996799a8aced>\u001b[0m in \u001b[0;36m<module>\u001b[0;34m\u001b[0m\n\u001b[0;32m----> 1\u001b[0;31m \u001b[0mprint\u001b[0m\u001b[0;34m(\u001b[0m\u001b[0;34mb'red %s'\u001b[0m \u001b[0;34m%\u001b[0m \u001b[0;34m'blue'\u001b[0m\u001b[0;34m)\u001b[0m\u001b[0;34m\u001b[0m\u001b[0;34m\u001b[0m\u001b[0m\n\u001b[0m",
      "\u001b[0;31mTypeError\u001b[0m: %b requires a bytes-like object, or an object that implements __bytes__, not 'str'"
     ]
    }
   ],
   "source": [
    "print(b'red %s' % 'blue')"
   ]
  },
  {
   "cell_type": "code",
   "execution_count": 20,
   "id": "toxic-heaven",
   "metadata": {},
   "outputs": [
    {
     "name": "stdout",
     "output_type": "stream",
     "text": [
      "red b'blue'\n"
     ]
    }
   ],
   "source": [
    "print('red %s' % b'blue')"
   ]
  },
  {
   "cell_type": "code",
   "execution_count": 22,
   "id": "naughty-pathology",
   "metadata": {},
   "outputs": [
    {
     "ename": "TypeError",
     "evalue": "write() argument must be str, not bytes",
     "output_type": "error",
     "traceback": [
      "\u001b[0;31m\u001b[0m",
      "\u001b[0;31mTypeError\u001b[0mTraceback (most recent call last)",
      "\u001b[0;32m<ipython-input-22-272397a5b7a2>\u001b[0m in \u001b[0;36m<module>\u001b[0;34m\u001b[0m\n\u001b[1;32m      1\u001b[0m \u001b[0;32mwith\u001b[0m \u001b[0mopen\u001b[0m\u001b[0;34m(\u001b[0m\u001b[0;34m'random.bin'\u001b[0m\u001b[0;34m,\u001b[0m \u001b[0;34m'w'\u001b[0m\u001b[0;34m)\u001b[0m\u001b[0;32mas\u001b[0m \u001b[0mf\u001b[0m\u001b[0;34m:\u001b[0m\u001b[0;34m\u001b[0m\u001b[0;34m\u001b[0m\u001b[0m\n\u001b[0;32m----> 2\u001b[0;31m     \u001b[0mf\u001b[0m\u001b[0;34m.\u001b[0m\u001b[0mwrite\u001b[0m\u001b[0;34m(\u001b[0m\u001b[0;34mb'\\xf1\\xf2\\xf3\\xf4\\xf5'\u001b[0m\u001b[0;34m)\u001b[0m\u001b[0;34m\u001b[0m\u001b[0;34m\u001b[0m\u001b[0m\n\u001b[0m",
      "\u001b[0;31mTypeError\u001b[0m: write() argument must be str, not bytes"
     ]
    }
   ],
   "source": [
    "with open('random.bin', 'w')as f:\n",
    "    f.write(b'\\xf1\\xf2\\xf3\\xf4\\xf5')"
   ]
  },
  {
   "cell_type": "code",
   "execution_count": 23,
   "id": "annoying-yacht",
   "metadata": {},
   "outputs": [],
   "source": [
    "with open('random.bin', 'wb')as f:\n",
    "    f.write(b'\\xf1\\xf2\\xf3\\xf4\\xf5')"
   ]
  },
  {
   "cell_type": "code",
   "execution_count": 26,
   "id": "bridal-currency",
   "metadata": {},
   "outputs": [
    {
     "ename": "UnicodeDecodeError",
     "evalue": "'utf-8' codec can't decode byte 0xf1 in position 0: invalid continuation byte",
     "output_type": "error",
     "traceback": [
      "\u001b[0;31m\u001b[0m",
      "\u001b[0;31mUnicodeDecodeError\u001b[0mTraceback (most recent call last)",
      "\u001b[0;32m<ipython-input-26-0655dd9d8c62>\u001b[0m in \u001b[0;36m<module>\u001b[0;34m\u001b[0m\n\u001b[1;32m      1\u001b[0m \u001b[0;32mwith\u001b[0m \u001b[0mopen\u001b[0m\u001b[0;34m(\u001b[0m\u001b[0;34m'random.bin'\u001b[0m\u001b[0;34m,\u001b[0m \u001b[0;34m'r'\u001b[0m\u001b[0;34m)\u001b[0m \u001b[0;32mas\u001b[0m \u001b[0mf\u001b[0m\u001b[0;34m:\u001b[0m\u001b[0;34m\u001b[0m\u001b[0;34m\u001b[0m\u001b[0m\n\u001b[0;32m----> 2\u001b[0;31m     \u001b[0mdata\u001b[0m \u001b[0;34m=\u001b[0m \u001b[0mf\u001b[0m\u001b[0;34m.\u001b[0m\u001b[0mread\u001b[0m\u001b[0;34m(\u001b[0m\u001b[0;34m)\u001b[0m\u001b[0;34m\u001b[0m\u001b[0;34m\u001b[0m\u001b[0m\n\u001b[0m",
      "\u001b[0;32m/usr/local/lib/python3.8/codecs.py\u001b[0m in \u001b[0;36mdecode\u001b[0;34m(self, input, final)\u001b[0m\n\u001b[1;32m    320\u001b[0m         \u001b[0;31m# decode input (taking the buffer into account)\u001b[0m\u001b[0;34m\u001b[0m\u001b[0;34m\u001b[0m\u001b[0;34m\u001b[0m\u001b[0m\n\u001b[1;32m    321\u001b[0m         \u001b[0mdata\u001b[0m \u001b[0;34m=\u001b[0m \u001b[0mself\u001b[0m\u001b[0;34m.\u001b[0m\u001b[0mbuffer\u001b[0m \u001b[0;34m+\u001b[0m \u001b[0minput\u001b[0m\u001b[0;34m\u001b[0m\u001b[0;34m\u001b[0m\u001b[0m\n\u001b[0;32m--> 322\u001b[0;31m         \u001b[0;34m(\u001b[0m\u001b[0mresult\u001b[0m\u001b[0;34m,\u001b[0m \u001b[0mconsumed\u001b[0m\u001b[0;34m)\u001b[0m \u001b[0;34m=\u001b[0m \u001b[0mself\u001b[0m\u001b[0;34m.\u001b[0m\u001b[0m_buffer_decode\u001b[0m\u001b[0;34m(\u001b[0m\u001b[0mdata\u001b[0m\u001b[0;34m,\u001b[0m \u001b[0mself\u001b[0m\u001b[0;34m.\u001b[0m\u001b[0merrors\u001b[0m\u001b[0;34m,\u001b[0m \u001b[0mfinal\u001b[0m\u001b[0;34m)\u001b[0m\u001b[0;34m\u001b[0m\u001b[0;34m\u001b[0m\u001b[0m\n\u001b[0m\u001b[1;32m    323\u001b[0m         \u001b[0;31m# keep undecoded input until the next call\u001b[0m\u001b[0;34m\u001b[0m\u001b[0;34m\u001b[0m\u001b[0;34m\u001b[0m\u001b[0m\n\u001b[1;32m    324\u001b[0m         \u001b[0mself\u001b[0m\u001b[0;34m.\u001b[0m\u001b[0mbuffer\u001b[0m \u001b[0;34m=\u001b[0m \u001b[0mdata\u001b[0m\u001b[0;34m[\u001b[0m\u001b[0mconsumed\u001b[0m\u001b[0;34m:\u001b[0m\u001b[0;34m]\u001b[0m\u001b[0;34m\u001b[0m\u001b[0;34m\u001b[0m\u001b[0m\n",
      "\u001b[0;31mUnicodeDecodeError\u001b[0m: 'utf-8' codec can't decode byte 0xf1 in position 0: invalid continuation byte"
     ]
    }
   ],
   "source": [
    "with open('random.bin', 'r') as f:\n",
    "    data = f.read()"
   ]
  },
  {
   "cell_type": "code",
   "execution_count": 27,
   "id": "combined-training",
   "metadata": {},
   "outputs": [],
   "source": [
    "with open('random.bin', 'rb') as f:\n",
    "    data = f.read()\n",
    "assert data == b'\\xf1\\xf2\\xf3\\xf4\\xf5'"
   ]
  },
  {
   "cell_type": "code",
   "execution_count": 29,
   "id": "steady-chosen",
   "metadata": {},
   "outputs": [],
   "source": [
    "with open('random.bin', 'r', encoding='cp1252') as f:\n",
    "    data = f.read()\n",
    "assert data == 'ñòóôõ'"
   ]
  },
  {
   "cell_type": "code",
   "execution_count": 30,
   "id": "biblical-finger",
   "metadata": {},
   "outputs": [
    {
     "name": "stdout",
     "output_type": "stream",
     "text": [
      "UTF-8\n"
     ]
    }
   ],
   "source": [
    "import locale\n",
    "print(locale.getpreferredencoding())"
   ]
  },
  {
   "cell_type": "markdown",
   "id": "academic-boost",
   "metadata": {},
   "source": [
    "## Cスタイルフォーマット文字列とstr.formatは使わずf文字列で埋め込む"
   ]
  },
  {
   "cell_type": "code",
   "execution_count": null,
   "id": "stunning-coffee",
   "metadata": {},
   "outputs": [],
   "source": []
  }
 ],
 "metadata": {
  "kernelspec": {
   "display_name": "Python 3",
   "language": "python",
   "name": "python3"
  },
  "language_info": {
   "codemirror_mode": {
    "name": "ipython",
    "version": 3
   },
   "file_extension": ".py",
   "mimetype": "text/x-python",
   "name": "python",
   "nbconvert_exporter": "python",
   "pygments_lexer": "ipython3",
   "version": "3.8.7"
  }
 },
 "nbformat": 4,
 "nbformat_minor": 5
}
